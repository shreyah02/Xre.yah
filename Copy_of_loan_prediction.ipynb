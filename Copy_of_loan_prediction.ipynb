{
  "nbformat": 4,
  "nbformat_minor": 0,
  "metadata": {
    "colab": {
      "provenance": [],
      "include_colab_link": true
    },
    "kernelspec": {
      "name": "python3",
      "display_name": "Python 3"
    },
    "language_info": {
      "name": "python"
    }
  },
  "cells": [
    {
      "cell_type": "markdown",
      "metadata": {
        "id": "view-in-github",
        "colab_type": "text"
      },
      "source": [
        "<a href=\"https://colab.research.google.com/github/shreyah02/Xre.yah/blob/main/Copy_of_loan_prediction.ipynb\" target=\"_parent\"><img src=\"https://colab.research.google.com/assets/colab-badge.svg\" alt=\"Open In Colab\"/></a>"
      ]
    },
    {
      "cell_type": "code",
      "source": [
        "import pandas as pd\n",
        "from sklearn.preprocessing import LabelEncoder\n",
        "from sklearn.neighbors import KNeighborsClassifier\n",
        "from sklearn.model_selection import train_test_split\n",
        "from sklearn.impute import SimpleImputer\n",
        "\n",
        "# Load the loan dataset (assuming it's in a CSV file)\n",
        "loan_data = pd.read_csv('/content/trainloan.csv')\n",
        "\n",
        "# Preprocess the data\n",
        "# Drop irrelevant columns or those with missing values\n",
        "#loan_data = loan_data.drop(['Loan_ID'], axis=1)\n",
        "loan_data = loan_data.dropna()\n",
        "#missing_values = loan_data.isnull().sum()\n",
        "#print(missing_values)\n",
        "loan_data.to_csv('trained.csv', index=False)\n"
      ],
      "metadata": {
        "id": "BR4FWidjTHdy"
      },
      "execution_count": null,
      "outputs": []
    },
    {
      "cell_type": "code",
      "source": [
        "loan_data = pd.read_csv('/content/trained.csv')\n",
        "# Convert categorical variables to numerical using label encoding\n",
        "label_encoder = LabelEncoder()\n",
        "\n",
        "loan_data['Loan_ID'] = loan_data['Loan_ID'].astype('category').cat.codes.astype(float)\n",
        "\n",
        "\n",
        "loan_data['Gender'] = label_encoder.fit_transform(loan_data['Gender'])\n",
        "loan_data['Married'] = label_encoder.fit_transform(loan_data['Married'])\n",
        "loan_data['Education'] = label_encoder.fit_transform(loan_data['Education'])\n",
        "loan_data['Self_Employed'] = label_encoder.fit_transform(loan_data['Self_Employed'])\n",
        "loan_data['Property_Area'] = label_encoder.fit_transform(loan_data['Property_Area'])\n",
        "\n",
        "# One-hot encode categorical variables\n",
        "loan_data = pd.get_dummies(loan_data, columns=['Dependents', 'Credit_History'])\n",
        "loan_data['ApplicantIncome'] = (loan_data['ApplicantIncome'] - loan_data['ApplicantIncome'].mean()) / loan_data['ApplicantIncome'].std()\n",
        "loan_data['CoapplicantIncome'] = (loan_data['CoapplicantIncome'] - loan_data['CoapplicantIncome'].mean()) / loan_data['CoapplicantIncome'].std()\n",
        "loan_data['LoanAmount'] = (loan_data['LoanAmount'] - loan_data['LoanAmount'].mean()) / loan_data['LoanAmount'].std()\n",
        "\n"
      ],
      "metadata": {
        "id": "H6vZjkeTZ1uz"
      },
      "execution_count": null,
      "outputs": []
    },
    {
      "cell_type": "code",
      "source": [
        "\n",
        "\n",
        "# Split the dataset into training and testing sets\n",
        "X = loan_data.drop('Loan_Status', axis=1)\n",
        "y = loan_data['Loan_Status']\n",
        "X_train, X_test, y_train, y_test = train_test_split(X, y, test_size=0.2, random_state=42)\n",
        "\n",
        "# Train the KNN classifier\n",
        "knn_classifier = KNeighborsClassifier(n_neighbors=5)\n",
        "knn_classifier.fit(X_train, y_train)\n",
        "\n",
        "# Make predictions on the testing set\n",
        "y_pred = knn_classifier.predict(X_test)\n",
        "print(y_pred)\n",
        "\n"
      ],
      "metadata": {
        "colab": {
          "base_uri": "https://localhost:8080/"
        },
        "id": "Mgvq6CWhWJdO",
        "outputId": "6168a1c0-d1c0-4887-fb74-adafb09642a0"
      },
      "execution_count": null,
      "outputs": [
        {
          "output_type": "stream",
          "name": "stdout",
          "text": [
            "['Y' 'Y' 'Y' 'N' 'Y' 'Y' 'Y' 'Y' 'Y' 'N' 'Y' 'Y' 'Y' 'Y' 'Y' 'Y' 'Y' 'Y'\n",
            " 'Y' 'Y' 'Y' 'Y' 'Y' 'Y' 'Y' 'Y' 'Y' 'Y' 'Y' 'Y' 'Y' 'Y' 'Y' 'Y' 'Y' 'Y'\n",
            " 'Y' 'Y' 'Y' 'Y' 'Y' 'Y' 'Y' 'Y' 'Y' 'Y' 'Y' 'Y' 'Y' 'N' 'N' 'Y' 'Y' 'Y'\n",
            " 'Y' 'Y' 'Y' 'Y' 'Y' 'Y' 'Y' 'Y' 'Y' 'Y' 'Y' 'Y' 'Y' 'Y' 'N' 'Y' 'Y' 'Y'\n",
            " 'Y' 'Y' 'Y' 'Y' 'Y' 'Y' 'Y' 'Y' 'Y' 'Y' 'Y' 'Y' 'Y' 'Y' 'Y' 'Y' 'N' 'Y'\n",
            " 'Y' 'Y' 'Y' 'Y' 'N' 'Y']\n"
          ]
        }
      ]
    },
    {
      "cell_type": "code",
      "source": [
        "test_data = pd.read_csv('/content/testloan.csv')\n",
        "\n",
        "# Preprocess the data\n",
        "# Drop irrelevant columns or those with missing values\n",
        "#test_data = test_data.drop(['Loan_ID'], axis=1)\n",
        "#test_data = test_data.dropna()\n",
        "test_data.to_csv('tested.csv', index=False)\n"
      ],
      "metadata": {
        "id": "eKyFmzJCc-Z9"
      },
      "execution_count": null,
      "outputs": []
    },
    {
      "cell_type": "code",
      "source": [
        "test_data = pd.read_csv('/content/tested.csv')\n",
        "predicted=test_data['Loan_ID']\n",
        "missing_values = test_data.isnull().sum()\n",
        "print(missing_values)\n",
        "\n",
        "\n",
        "\n",
        "#loan_id_mapping = {index: Loan_ID for index, Loan_ID in enumerate(test_data['Loan_ID'])}\n",
        "test_data['Loan_ID'] = test_data['Loan_ID'].astype('category').cat.codes.astype(float)\n",
        "# Convert categorical variables to numerical using label encoding\n",
        "label_encoder = LabelEncoder()\n",
        "\n",
        "#test_data['Loan_ID'] = test_data['Loan_ID'].astype('category').cat.codes.astype(float)\n",
        "#loan_id_mapping = dict(zip(test_data['Loan_ID'], test_data['Loan_ID'].astype(str)))\n",
        "test_data['Gender'] = label_encoder.fit_transform(test_data['Gender'])\n",
        "test_data['Married'] = label_encoder.fit_transform(test_data['Married'])\n",
        "test_data['Education'] = label_encoder.fit_transform(test_data['Education'])\n",
        "test_data['Self_Employed'] = label_encoder.fit_transform(test_data['Self_Employed'])\n",
        "test_data['Property_Area'] = label_encoder.fit_transform(test_data['Property_Area'])\n",
        "\n",
        "# One-hot encode categorical variables\n",
        "test_data = pd.get_dummies(test_data, columns=['Dependents', 'Credit_History'])\n",
        "test_data['ApplicantIncome'] = (test_data['ApplicantIncome'] - test_data['ApplicantIncome'].mean()) / loan_data['ApplicantIncome'].std()\n",
        "test_data['CoapplicantIncome'] = (test_data['CoapplicantIncome'] - test_data['CoapplicantIncome'].mean()) / loan_data['CoapplicantIncome'].std()\n",
        "test_data['LoanAmount'] = (test_data['LoanAmount'] - test_data['LoanAmount'].mean()) / loan_data['LoanAmount'].std()\n",
        "\n"
      ],
      "metadata": {
        "colab": {
          "base_uri": "https://localhost:8080/"
        },
        "id": "WKcomzMudKG8",
        "outputId": "e1fcb71f-3f65-4af6-e790-2fea6a4be553"
      },
      "execution_count": null,
      "outputs": [
        {
          "output_type": "stream",
          "name": "stdout",
          "text": [
            "Loan_ID               0\n",
            "Gender               11\n",
            "Married               0\n",
            "Dependents           10\n",
            "Education             0\n",
            "Self_Employed        23\n",
            "ApplicantIncome       0\n",
            "CoapplicantIncome     0\n",
            "LoanAmount            5\n",
            "Loan_Amount_Term      6\n",
            "Credit_History       29\n",
            "Property_Area         0\n",
            "dtype: int64\n"
          ]
        }
      ]
    },
    {
      "cell_type": "code",
      "source": [
        "imputer = SimpleImputer(strategy='mean')\n",
        "\n",
        "# Impute missing values with mean\n",
        "test_data['Gender'] = imputer.fit_transform(test_data[['Gender']])\n",
        "test_data['Self_Employed'] = imputer.fit_transform(test_data[['Self_Employed']])\n",
        "test_data['LoanAmount'] = imputer.fit_transform(test_data[['LoanAmount']])\n",
        "test_data['Loan_Amount_Term'] = imputer.fit_transform(test_data[['Loan_Amount_Term']])\n"
      ],
      "metadata": {
        "id": "UQ4TQcf2klDw"
      },
      "execution_count": null,
      "outputs": []
    },
    {
      "cell_type": "code",
      "source": [
        "predictions = knn_classifier.predict(test_data)\n",
        "test_data['Loan_Status'] = predictions\n",
        "output_data = pd.DataFrame({'Loan_ID': predicted, 'Loan_Status': predictions})\n",
        "# Save the test data with the predicted values to a new CSV file\n",
        "output_data.to_csv('output.csv', index=False)\n",
        "# Print the predictions\n",
        "print(predictions)"
      ],
      "metadata": {
        "colab": {
          "base_uri": "https://localhost:8080/"
        },
        "id": "TWuLWDl-dn-m",
        "outputId": "7088bc5f-1bbc-4a14-8b46-f385b919314c"
      },
      "execution_count": null,
      "outputs": [
        {
          "output_type": "stream",
          "name": "stdout",
          "text": [
            "['Y' 'Y' 'Y' 'Y' 'N' 'Y' 'N' 'N' 'Y' 'Y' 'N' 'Y' 'Y' 'N' 'N' 'Y' 'Y' 'N'\n",
            " 'Y' 'Y' 'Y' 'Y' 'N' 'N' 'Y' 'N' 'N' 'N' 'N' 'Y' 'Y' 'N' 'Y' 'Y' 'Y' 'N'\n",
            " 'Y' 'Y' 'Y' 'Y' 'Y' 'N' 'Y' 'N' 'N' 'Y' 'Y' 'Y' 'N' 'N' 'Y' 'Y' 'Y' 'Y'\n",
            " 'N' 'Y' 'Y' 'N' 'Y' 'Y' 'Y' 'N' 'Y' 'Y' 'Y' 'Y' 'Y' 'Y' 'N' 'Y' 'Y' 'Y'\n",
            " 'Y' 'N' 'Y' 'Y' 'N' 'Y' 'Y' 'N' 'Y' 'Y' 'N' 'N' 'Y' 'N' 'Y' 'Y' 'Y' 'Y'\n",
            " 'Y' 'Y' 'Y' 'Y' 'Y' 'Y' 'N' 'Y' 'N' 'N' 'Y' 'N' 'Y' 'Y' 'Y' 'Y' 'Y' 'Y'\n",
            " 'Y' 'Y' 'Y' 'Y' 'Y' 'Y' 'N' 'Y' 'Y' 'Y' 'Y' 'Y' 'Y' 'Y' 'Y' 'N' 'Y' 'N'\n",
            " 'N' 'N' 'Y' 'Y' 'Y' 'Y' 'Y' 'Y' 'Y' 'Y' 'Y' 'Y' 'Y' 'Y' 'Y' 'N' 'N' 'Y'\n",
            " 'Y' 'Y' 'Y' 'N' 'Y' 'N' 'N' 'Y' 'N' 'Y' 'Y' 'N' 'N' 'Y' 'Y' 'N' 'N' 'N'\n",
            " 'N' 'N' 'N' 'N' 'Y' 'N' 'N' 'Y' 'Y' 'Y' 'N' 'N' 'Y' 'N' 'N' 'Y' 'N' 'Y'\n",
            " 'Y' 'Y' 'Y' 'Y' 'Y' 'Y' 'Y' 'N' 'Y' 'N' 'Y' 'Y' 'N' 'Y' 'Y' 'N' 'N' 'Y'\n",
            " 'Y' 'Y' 'N' 'Y' 'Y' 'Y' 'Y' 'Y' 'Y' 'Y' 'Y' 'Y' 'Y' 'N' 'N' 'N' 'Y' 'N'\n",
            " 'Y' 'N' 'Y' 'Y' 'Y' 'Y' 'N' 'N' 'N' 'Y' 'Y' 'N' 'N' 'N' 'N' 'Y' 'Y' 'N'\n",
            " 'Y' 'Y' 'N' 'Y' 'Y' 'N' 'Y' 'Y' 'Y' 'Y' 'Y' 'Y' 'N' 'N' 'Y' 'Y' 'N' 'Y'\n",
            " 'Y' 'Y' 'Y' 'Y' 'Y' 'Y' 'Y' 'N' 'Y' 'Y' 'Y' 'Y' 'Y' 'N' 'N' 'Y' 'N' 'Y'\n",
            " 'Y' 'Y' 'Y' 'Y' 'Y' 'Y' 'Y' 'Y' 'Y' 'Y' 'Y' 'Y' 'Y' 'N' 'N' 'N' 'Y' 'Y'\n",
            " 'Y' 'N' 'Y' 'Y' 'Y' 'Y' 'Y' 'N' 'Y' 'Y' 'Y' 'Y' 'Y' 'Y' 'Y' 'Y' 'N' 'Y'\n",
            " 'Y' 'Y' 'Y' 'Y' 'Y' 'Y' 'Y' 'Y' 'Y' 'Y' 'Y' 'Y' 'Y' 'Y' 'Y' 'Y' 'Y' 'N'\n",
            " 'Y' 'Y' 'Y' 'Y' 'Y' 'Y' 'Y' 'N' 'Y' 'Y' 'Y' 'Y' 'Y' 'Y' 'N' 'Y' 'N' 'Y'\n",
            " 'Y' 'Y' 'Y' 'Y' 'Y' 'Y' 'Y' 'Y' 'Y' 'Y' 'Y' 'Y' 'Y' 'Y' 'Y' 'Y' 'Y' 'Y'\n",
            " 'N' 'Y' 'Y' 'Y' 'Y' 'N' 'Y']\n"
          ]
        }
      ]
    }
  ]
}